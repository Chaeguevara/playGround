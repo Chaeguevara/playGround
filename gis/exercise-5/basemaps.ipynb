{
 "cells": [
  {
   "cell_type": "code",
   "execution_count": 34,
   "metadata": {},
   "outputs": [],
   "source": [
    "import folium\n",
    "import pathlib\n",
    "import requests\n",
    "import dotenv\n",
    "import os\n",
    "import shutil\n",
    "dotenv.load_dotenv()\n",
    "\n",
    "world = requests.get(\n",
    " \"https://raw.githubusercontent.com/python-visualization/folium/main/examples/data/world-countries.json\"\n",
    ").json()\n",
    "CUR_PATH = pathlib.Path().resolve()\n",
    "\n",
    "kw = {\"location\" :[37.579797,127.053848],\"zoom_start\":3}\n",
    "interactive_map = folium.Map(\n",
    "    tiles=\"openstreetmap\",\n",
    "    **kw\n",
    ")\n",
    "folium.GeoJson(world).add_to(interactive_map)\n",
    "HTML_DIR = CUR_PATH / \"html\"\n",
    "HTML_DIR.mkdir(exist_ok=True)\n",
    "interactive_map.save(HTML_DIR/\"base_map.html\")"
   ]
  },
  {
   "cell_type": "code",
   "execution_count": 35,
   "metadata": {},
   "outputs": [
    {
     "name": "stdout",
     "output_type": "stream",
     "text": [
      "KwJYhzktxJkhKZPIPTKqnU3xPaY3hsnNEwk6BIc9\n",
      "127.053848,37.579797\n",
      "<Response [200]>\n"
     ]
    }
   ],
   "source": [
    "naver = \"https://naveropenapi.apigw.ntruss.com/map-static/v2/raster\"\n",
    "print(os.getenv(\"NAVER_API\"))\n",
    "center =  str(kw[\"location\"][1])+\",\"+str(kw[\"location\"][0])\n",
    "print(center)\n",
    "paylod = {\n",
    "    \"w\":\"800\",\n",
    "    \"h\":\"800\",\n",
    "    \"center\": center,\n",
    "    \"level\":\"16\",\n",
    "    \"format\":\"png\"\n",
    "    }\n",
    "header = {\n",
    "    \"X-NCP-APIGW-API-KEY-ID\" : os.getenv(\"NAVER_CLIENT_ID\"),\n",
    "    \"X-NCP-APIGW-API-KEY\" : os.getenv(\"NAVER_API\")\n",
    "}\n",
    "r = requests.get(naver,params=paylod,headers=header,stream=True)\n",
    "with open(\"img.png\",\"wb\") as out_file:\n",
    "    shutil.copyfileobj(r.raw,out_file)\n",
    "print(r)"
   ]
  }
 ],
 "metadata": {
  "kernelspec": {
   "display_name": "gis",
   "language": "python",
   "name": "python3"
  },
  "language_info": {
   "codemirror_mode": {
    "name": "ipython",
    "version": 3
   },
   "file_extension": ".py",
   "mimetype": "text/x-python",
   "name": "python",
   "nbconvert_exporter": "python",
   "pygments_lexer": "ipython3",
   "version": "3.10.13"
  }
 },
 "nbformat": 4,
 "nbformat_minor": 2
}
